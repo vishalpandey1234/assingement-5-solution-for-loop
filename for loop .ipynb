{
 "cells": [
  {
   "cell_type": "markdown",
   "id": "2e3e65e0-f93a-4367-bae5-217b4976839f",
   "metadata": {},
   "source": [
    "# 1: Write a Python program to print all the numbers from 1 to 10 using a for loop."
   ]
  },
  {
   "cell_type": "code",
   "execution_count": 4,
   "id": "7af5381b-ca7c-4d7f-a084-7df7120e3789",
   "metadata": {},
   "outputs": [
    {
     "name": "stdout",
     "output_type": "stream",
     "text": [
      "1\n",
      "2\n",
      "3\n",
      "4\n",
      "5\n",
      "6\n",
      "7\n",
      "8\n",
      "9\n",
      "10\n"
     ]
    }
   ],
   "source": [
    "for item in range(1,11):\n",
    "    print(item)"
   ]
  },
  {
   "cell_type": "markdown",
   "id": "283bbf33-e78d-42be-80b3-8ac56acf4dd7",
   "metadata": {},
   "source": [
    "#  2: Write a Python program to find the sum of all numbers from 1 to 100 using a for loop."
   ]
  },
  {
   "cell_type": "code",
   "execution_count": 11,
   "id": "cf316b22-2842-4aa3-bc7b-e96cd0080010",
   "metadata": {},
   "outputs": [
    {
     "name": "stdout",
     "output_type": "stream",
     "text": [
      "sum of all number from 1 to 100 is 1\n",
      "sum of all number from 1 to 100 is 3\n",
      "sum of all number from 1 to 100 is 6\n",
      "sum of all number from 1 to 100 is 10\n",
      "sum of all number from 1 to 100 is 15\n",
      "sum of all number from 1 to 100 is 21\n",
      "sum of all number from 1 to 100 is 28\n",
      "sum of all number from 1 to 100 is 36\n",
      "sum of all number from 1 to 100 is 45\n",
      "sum of all number from 1 to 100 is 55\n",
      "sum of all number from 1 to 100 is 66\n",
      "sum of all number from 1 to 100 is 78\n",
      "sum of all number from 1 to 100 is 91\n",
      "sum of all number from 1 to 100 is 105\n",
      "sum of all number from 1 to 100 is 120\n",
      "sum of all number from 1 to 100 is 136\n",
      "sum of all number from 1 to 100 is 153\n",
      "sum of all number from 1 to 100 is 171\n",
      "sum of all number from 1 to 100 is 190\n",
      "sum of all number from 1 to 100 is 210\n",
      "sum of all number from 1 to 100 is 231\n",
      "sum of all number from 1 to 100 is 253\n",
      "sum of all number from 1 to 100 is 276\n",
      "sum of all number from 1 to 100 is 300\n",
      "sum of all number from 1 to 100 is 325\n",
      "sum of all number from 1 to 100 is 351\n",
      "sum of all number from 1 to 100 is 378\n",
      "sum of all number from 1 to 100 is 406\n",
      "sum of all number from 1 to 100 is 435\n",
      "sum of all number from 1 to 100 is 465\n",
      "sum of all number from 1 to 100 is 496\n",
      "sum of all number from 1 to 100 is 528\n",
      "sum of all number from 1 to 100 is 561\n",
      "sum of all number from 1 to 100 is 595\n",
      "sum of all number from 1 to 100 is 630\n",
      "sum of all number from 1 to 100 is 666\n",
      "sum of all number from 1 to 100 is 703\n",
      "sum of all number from 1 to 100 is 741\n",
      "sum of all number from 1 to 100 is 780\n",
      "sum of all number from 1 to 100 is 820\n",
      "sum of all number from 1 to 100 is 861\n",
      "sum of all number from 1 to 100 is 903\n",
      "sum of all number from 1 to 100 is 946\n",
      "sum of all number from 1 to 100 is 990\n",
      "sum of all number from 1 to 100 is 1035\n",
      "sum of all number from 1 to 100 is 1081\n",
      "sum of all number from 1 to 100 is 1128\n",
      "sum of all number from 1 to 100 is 1176\n",
      "sum of all number from 1 to 100 is 1225\n",
      "sum of all number from 1 to 100 is 1275\n",
      "sum of all number from 1 to 100 is 1326\n",
      "sum of all number from 1 to 100 is 1378\n",
      "sum of all number from 1 to 100 is 1431\n",
      "sum of all number from 1 to 100 is 1485\n",
      "sum of all number from 1 to 100 is 1540\n",
      "sum of all number from 1 to 100 is 1596\n",
      "sum of all number from 1 to 100 is 1653\n",
      "sum of all number from 1 to 100 is 1711\n",
      "sum of all number from 1 to 100 is 1770\n",
      "sum of all number from 1 to 100 is 1830\n",
      "sum of all number from 1 to 100 is 1891\n",
      "sum of all number from 1 to 100 is 1953\n",
      "sum of all number from 1 to 100 is 2016\n",
      "sum of all number from 1 to 100 is 2080\n",
      "sum of all number from 1 to 100 is 2145\n",
      "sum of all number from 1 to 100 is 2211\n",
      "sum of all number from 1 to 100 is 2278\n",
      "sum of all number from 1 to 100 is 2346\n",
      "sum of all number from 1 to 100 is 2415\n",
      "sum of all number from 1 to 100 is 2485\n",
      "sum of all number from 1 to 100 is 2556\n",
      "sum of all number from 1 to 100 is 2628\n",
      "sum of all number from 1 to 100 is 2701\n",
      "sum of all number from 1 to 100 is 2775\n",
      "sum of all number from 1 to 100 is 2850\n",
      "sum of all number from 1 to 100 is 2926\n",
      "sum of all number from 1 to 100 is 3003\n",
      "sum of all number from 1 to 100 is 3081\n",
      "sum of all number from 1 to 100 is 3160\n",
      "sum of all number from 1 to 100 is 3240\n",
      "sum of all number from 1 to 100 is 3321\n",
      "sum of all number from 1 to 100 is 3403\n",
      "sum of all number from 1 to 100 is 3486\n",
      "sum of all number from 1 to 100 is 3570\n",
      "sum of all number from 1 to 100 is 3655\n",
      "sum of all number from 1 to 100 is 3741\n",
      "sum of all number from 1 to 100 is 3828\n",
      "sum of all number from 1 to 100 is 3916\n",
      "sum of all number from 1 to 100 is 4005\n",
      "sum of all number from 1 to 100 is 4095\n",
      "sum of all number from 1 to 100 is 4186\n",
      "sum of all number from 1 to 100 is 4278\n",
      "sum of all number from 1 to 100 is 4371\n",
      "sum of all number from 1 to 100 is 4465\n",
      "sum of all number from 1 to 100 is 4560\n",
      "sum of all number from 1 to 100 is 4656\n",
      "sum of all number from 1 to 100 is 4753\n",
      "sum of all number from 1 to 100 is 4851\n",
      "sum of all number from 1 to 100 is 4950\n",
      "sum of all number from 1 to 100 is 5050\n"
     ]
    }
   ],
   "source": [
    "i = 0\n",
    "for number in range(1,101):\n",
    "    i+=number\n",
    "    print(\"sum of all number from 1 to 100 is\",i)"
   ]
  },
  {
   "cell_type": "markdown",
   "id": "91544fee-5ebd-4597-a4f4-0c2d40124c9c",
   "metadata": {},
   "source": [
    "# 3: Write a Python program to print the multiplication table of a given number using a for loop."
   ]
  },
  {
   "cell_type": "code",
   "execution_count": 1,
   "id": "04131081-0cc6-477a-8fc6-6486ac48531b",
   "metadata": {},
   "outputs": [
    {
     "name": "stdin",
     "output_type": "stream",
     "text": [
      "enter your number 19\n"
     ]
    },
    {
     "name": "stdout",
     "output_type": "stream",
     "text": [
      "multiplication table of 19:\n",
      "19 x 1 = 19\n",
      "19 x 2 = 38\n",
      "19 x 3 = 57\n",
      "19 x 4 = 76\n",
      "19 x 5 = 95\n",
      "19 x 6 = 114\n",
      "19 x 7 = 133\n",
      "19 x 8 = 152\n",
      "19 x 9 = 171\n",
      "19 x 10 = 190\n"
     ]
    }
   ],
   "source": [
    "number= int(input(\"enter your number\"))\n",
    "print(f\"multiplication table of {number}:\")\n",
    "for i in range(1,11):\n",
    "    print(f\"{number} x {i} = {number * i}\")\n",
    "\n",
    "    \n",
    "\n"
   ]
  },
  {
   "cell_type": "markdown",
   "id": "f3c2002f-1a60-4ae8-a8e3-057d0bfc6a2b",
   "metadata": {},
   "source": [
    "# 4: Write a Python program to count the number of even and odd numbers from a series of numbers using a for loop."
   ]
  },
  {
   "cell_type": "code",
   "execution_count": 1,
   "id": "3c12a193-0065-446e-9083-7c1db1011875",
   "metadata": {},
   "outputs": [
    {
     "name": "stdout",
     "output_type": "stream",
     "text": [
      "1 is a odd number\n",
      "2 is a even number\n",
      "3 is a odd number\n",
      "4 is a even number\n",
      "5 is a odd number\n",
      "6 is a even number\n",
      "7 is a odd number\n",
      "8 is a even number\n",
      "9 is a odd number\n",
      "10 is a even number\n"
     ]
    }
   ],
   "source": [
    "number = [1, 2, 3, 4, 5, 6, 7, 8, 9, 10]\n",
    "for i in number:\n",
    "    if i % 2==0:\n",
    "        print(f\"{i} is a even number\")\n",
    "    else:\n",
    "        print(f\"{i} is a odd number\")"
   ]
  },
  {
   "cell_type": "markdown",
   "id": "5f1d6e11-b8fd-4900-9635-cf1f5843434f",
   "metadata": {},
   "source": [
    "# 5: Write a Python program to find the factorial of a number using a for loop\n"
   ]
  },
  {
   "cell_type": "code",
   "execution_count": 9,
   "id": "ffbfef94-2dd9-4b00-88f2-f3771bd064f7",
   "metadata": {},
   "outputs": [
    {
     "name": "stdin",
     "output_type": "stream",
     "text": [
      "enter your number 5\n"
     ]
    },
    {
     "name": "stdout",
     "output_type": "stream",
     "text": [
      "15\n"
     ]
    }
   ],
   "source": [
    "fact_number = int(input(\"enter your number\"))\n",
    "sum_number = 0\n",
    "for i in range (fact_number,0,-1):\n",
    "    sum_number= fact + i\n",
    "print(fact)    "
   ]
  },
  {
   "cell_type": "markdown",
   "id": "110f0d52-cac8-4a2c-a564-52a46abb1ae5",
   "metadata": {},
   "source": [
    "#  6: Write a Python program to print the Fibonacci sequence up to a specified number using a for loop.\n"
   ]
  },
  {
   "cell_type": "code",
   "execution_count": 21,
   "id": "e00d1207-c4fb-43e7-a472-d1df40096086",
   "metadata": {},
   "outputs": [
    {
     "name": "stdout",
     "output_type": "stream",
     "text": [
      "1\n",
      "1\n",
      "2\n",
      "3\n",
      "5\n",
      "8\n",
      "13\n",
      "21\n",
      "34\n",
      "55\n"
     ]
    }
   ],
   "source": [
    "a, b = 0 ,1\n",
    "for _ in range(0,10):\n",
    "    a, b = b, a + b\n",
    "    print(a)\n"
   ]
  },
  {
   "cell_type": "markdown",
   "id": "d7529ac4-4a67-42df-bf48-8dcc67199793",
   "metadata": {},
   "source": [
    "#  7: Write a Python program to check if a given number is prime or not using a for loop.\n"
   ]
  },
  {
   "cell_type": "code",
   "execution_count": 39,
   "id": "d3f2841c-524d-4d26-b8f5-064d350c665e",
   "metadata": {},
   "outputs": [
    {
     "name": "stdin",
     "output_type": "stream",
     "text": [
      "Enter a number to check if it's prime:  11\n"
     ]
    },
    {
     "name": "stdout",
     "output_type": "stream",
     "text": [
      "11 is prime number\n"
     ]
    }
   ],
   "source": [
    "num = int(input(\"Enter a number to check if it's prime: \"))\n",
    "i=0\n",
    "for i in range (2,num):\n",
    "    if num % i == 0:\n",
    "        print(num,\" is not a prime number\")\n",
    "        break\n",
    "else:\n",
    "    print( num ,\"is prime number\")"
   ]
  },
  {
   "cell_type": "markdown",
   "id": "a2dd4fc7-6c21-4fea-8279-10986d2b3a73",
   "metadata": {},
   "source": [
    "# Question 8: Write a Python program to find the largest element in a list using a for loop."
   ]
  },
  {
   "cell_type": "code",
   "execution_count": 36,
   "id": "f31ac321-27d8-44ef-a089-943bfdf67da0",
   "metadata": {},
   "outputs": [
    {
     "name": "stdout",
     "output_type": "stream",
     "text": [
      "largest number is: 99\n"
     ]
    }
   ],
   "source": [
    "numbers = [77,88,56,9,47,99]\n",
    "largest = numbers[0]\n",
    "for num in numbers:\n",
    "    if num > largest:\n",
    "        largest = num\n",
    "print(\"largest number is:\",largest)"
   ]
  },
  {
   "cell_type": "markdown",
   "id": "f7c93fad-154b-4148-953f-154a0bbd77ef",
   "metadata": {},
   "source": [
    "# Question 9: Write a Python program to reverse a given string using a for loop."
   ]
  },
  {
   "cell_type": "code",
   "execution_count": null,
   "id": "c915689b-7ccb-4a4b-950a-76024d89ed18",
   "metadata": {},
   "outputs": [],
   "source": [
    "num =input(\"enter a string:\") \n",
    "reversed_text = \"\"\n",
    "for numbers in num:\n",
    "    reversed_text = numbers + reversed_text\n",
    "print(reversed_text)"
   ]
  },
  {
   "cell_type": "markdown",
   "id": "494f1d97-0426-432b-87b8-6615c47fedd3",
   "metadata": {},
   "source": [
    "# Question 10: Write a Python program to find the common elements between two lists using a for loop.\n"
   ]
  },
  {
   "cell_type": "code",
   "execution_count": 6,
   "id": "e7939b13-7a42-48f4-8316-d151857e63c2",
   "metadata": {},
   "outputs": [
    {
     "name": "stdout",
     "output_type": "stream",
     "text": [
      "1\n"
     ]
    }
   ],
   "source": [
    "num1 = [1,2,3]\n",
    "num2 = [4,5,1]\n",
    "for i in num1:\n",
    "    if i in num2:\n",
    "        print(i)"
   ]
  },
  {
   "cell_type": "code",
   "execution_count": null,
   "id": "8977051d-db27-4ff8-b603-7751e323c607",
   "metadata": {},
   "outputs": [],
   "source": []
  },
  {
   "cell_type": "code",
   "execution_count": null,
   "id": "00c64583-c1a2-475c-83ed-6706f2223aeb",
   "metadata": {},
   "outputs": [],
   "source": []
  },
  {
   "cell_type": "code",
   "execution_count": null,
   "id": "58900c40-fc9c-4922-9550-9045e991b23e",
   "metadata": {},
   "outputs": [],
   "source": []
  },
  {
   "cell_type": "code",
   "execution_count": null,
   "id": "85d29ab5-54dc-4344-aed8-64f0a2b8134b",
   "metadata": {},
   "outputs": [],
   "source": []
  },
  {
   "cell_type": "code",
   "execution_count": null,
   "id": "62b223c5-84db-478e-bee6-a5f825680b5d",
   "metadata": {},
   "outputs": [],
   "source": []
  },
  {
   "cell_type": "code",
   "execution_count": null,
   "id": "bd5fd5fb-7238-458f-8423-fb405f0de23a",
   "metadata": {},
   "outputs": [],
   "source": []
  },
  {
   "cell_type": "code",
   "execution_count": null,
   "id": "92e25ec0-c745-4d28-9a6e-1caddf2344a2",
   "metadata": {},
   "outputs": [],
   "source": []
  },
  {
   "cell_type": "code",
   "execution_count": null,
   "id": "dd940569-ac46-4f4f-aa55-0a038d9fc35b",
   "metadata": {},
   "outputs": [],
   "source": []
  }
 ],
 "metadata": {
  "kernelspec": {
   "display_name": "Python [conda env:base] *",
   "language": "python",
   "name": "conda-base-py"
  },
  "language_info": {
   "codemirror_mode": {
    "name": "ipython",
    "version": 3
   },
   "file_extension": ".py",
   "mimetype": "text/x-python",
   "name": "python",
   "nbconvert_exporter": "python",
   "pygments_lexer": "ipython3",
   "version": "3.12.7"
  }
 },
 "nbformat": 4,
 "nbformat_minor": 5
}
